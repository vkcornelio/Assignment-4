{
 "cells": [
  {
   "cell_type": "markdown",
   "metadata": {},
   "source": [
    "# Assignment 4 Questions"
   ]
  },
  {
   "cell_type": "markdown",
   "metadata": {},
   "source": [
    "## Problem Statement"
   ]
  },
  {
   "cell_type": "markdown",
   "metadata": {},
   "source": [
    "Q.1 Given a sequence of n values x1, x2, ..., xn and a window size k>0, the k-th moving average of\n",
    "the given sequence is defined as follows:\n",
    "\n",
    "The moving average sequence has n-k+1 elements as shown below.\n",
    "The moving averages with k=4 of a ten-value sequence (n=10) is shown below\n",
    "\n",
    "    i 1 2 3 4 5 6 7 8 9 10\n",
    "    ===== == == == == == == == == == ==\n",
    "    Input 10 20 30 40 50 60 70 80 90 100\n",
    "    y1 25 = (10+20+30+40)/4\n",
    "    y2 35 = (20+30+40+50)/4\n",
    "    y3 45 = (30+40+50+60)/4\n",
    "    y4 55 = (40+50+60+70)/4\n",
    "    y5 65 = (50+60+70+80)/4\n",
    "    y6 75 = (60+70+80+90)/4\n",
    "    y7 85 = (70+80+90+100)/4\n",
    "\n",
    "Thus, the moving average sequence has n-k+1=10-4+1=7 values.\n",
    "\n",
    "Write a function to find moving average in an array over a window:\n",
    "\n",
    "Test it over [3, 5, 7, 2, 8, 10, 11, 65, 72, 81, 99, 100, 150] and window of 3."
   ]
  },
  {
   "cell_type": "code",
   "execution_count": 27,
   "metadata": {},
   "outputs": [
    {
     "name": "stdout",
     "output_type": "stream",
     "text": [
      "Cummulative sum:\n"
     ]
    },
    {
     "data": {
      "text/plain": [
       "array([  5.        ,   4.66666667,   5.66666667,   6.66666667,\n",
       "         9.66666667,  28.66666667,  49.33333333,  72.66666667,\n",
       "        84.        ,  93.33333333, 116.33333333])"
      ]
     },
     "execution_count": 27,
     "metadata": {},
     "output_type": "execute_result"
    }
   ],
   "source": [
    "import numpy as np\n",
    "def moving_averages(a,n=3):\n",
    "    at=np.cumsum(a,dtype=float)\n",
    "    \n",
    "    at[n:]=at[n:] - at[:-n]\n",
    "    \n",
    "    return at[n-1:]/n\n",
    "    \n",
    "a=[3, 5, 7, 2, 8, 10, 11, 65, 72, 81, 99, 100, 150]\n",
    "print(\"Cummulative sum:\")\n",
    "moving_averages(a,n=3)"
   ]
  },
  {
   "cell_type": "markdown",
   "metadata": {},
   "source": [
    "Q.2 How-to-count-distance-to-the-previous-zero\n",
    "For each value, count the difference back to the previous zero (or the start of the Series,\n",
    "whichever is closer)\n",
    "create a new column 'Y'\n",
    "Consider a DataFrame df where there is an integer column 'X'\n",
    "    \n",
    "    import pandas as pd\n",
    "    df = pd.DataFrame({'X': [7, 2, 0, 3, 4, 2, 5, 0, 3, 4]})"
   ]
  },
  {
   "cell_type": "code",
   "execution_count": 39,
   "metadata": {},
   "outputs": [
    {
     "name": "stdout",
     "output_type": "stream",
     "text": [
      "   Y\n",
      "0  1\n",
      "1  2\n",
      "2  0\n",
      "3  2\n",
      "4  3\n",
      "5  4\n",
      "6  5\n",
      "7  0\n",
      "8  2\n",
      "9  3\n"
     ]
    }
   ],
   "source": [
    "import pandas as pd\n",
    "df = pd.DataFrame({'X': [7, 2, 0, 3, 4, 2, 5, 0, 3, 4]})\n",
    "df1=pd.Series(df['X'])\n",
    "result=(df1.groupby(df1.eq(0).cumsum().mask(df.eq(0))).cumcount() + 1).mask(df1.eq(0),0)\n",
    "df2=pd.DataFrame((result),columns=['Y'])\n",
    "print(df2)"
   ]
  },
  {
   "cell_type": "markdown",
   "metadata": {},
   "source": [
    "Q.3 Create a DatetimeIndex that contains each business day of 2015 and use it to index a Series of\n",
    "random numbers."
   ]
  },
  {
   "cell_type": "code",
   "execution_count": 33,
   "metadata": {},
   "outputs": [
    {
     "name": "stdout",
     "output_type": "stream",
     "text": [
      "2015-01-01    0.219609\n",
      "2015-01-02    0.385966\n",
      "2015-01-03    0.000558\n",
      "2015-01-04    0.719929\n",
      "2015-01-05    0.005949\n",
      "2015-01-06    0.128837\n",
      "2015-01-07    0.345190\n",
      "2015-01-08    0.085426\n",
      "2015-01-09    0.775670\n",
      "2015-01-10    0.478051\n",
      "2015-01-11    0.407514\n",
      "2015-01-12    0.104224\n",
      "2015-01-13    0.668323\n",
      "2015-01-14    0.467028\n",
      "2015-01-15    0.997809\n",
      "2015-01-16    0.660974\n",
      "2015-01-17    0.580558\n",
      "2015-01-18    0.363936\n",
      "2015-01-19    0.097830\n",
      "2015-01-20    0.665440\n",
      "2015-01-21    0.951628\n",
      "2015-01-22    0.434002\n",
      "2015-01-23    0.455973\n",
      "2015-01-24    0.984348\n",
      "2015-01-25    0.550917\n",
      "2015-01-26    0.627667\n",
      "2015-01-27    0.056178\n",
      "2015-01-28    0.104791\n",
      "2015-01-29    0.380085\n",
      "2015-01-30    0.067092\n",
      "                ...   \n",
      "2015-12-02    0.395450\n",
      "2015-12-03    0.234670\n",
      "2015-12-04    0.479081\n",
      "2015-12-05    0.123515\n",
      "2015-12-06    0.192883\n",
      "2015-12-07    0.840601\n",
      "2015-12-08    0.137610\n",
      "2015-12-09    0.595961\n",
      "2015-12-10    0.970921\n",
      "2015-12-11    0.405046\n",
      "2015-12-12    0.924717\n",
      "2015-12-13    0.030764\n",
      "2015-12-14    0.127092\n",
      "2015-12-15    0.698691\n",
      "2015-12-16    0.791977\n",
      "2015-12-17    0.333994\n",
      "2015-12-18    0.424575\n",
      "2015-12-19    0.918377\n",
      "2015-12-20    0.684518\n",
      "2015-12-21    0.326396\n",
      "2015-12-22    0.311302\n",
      "2015-12-23    0.399003\n",
      "2015-12-24    0.038683\n",
      "2015-12-25    0.948099\n",
      "2015-12-26    0.822596\n",
      "2015-12-27    0.241626\n",
      "2015-12-28    0.917546\n",
      "2015-12-29    0.595539\n",
      "2015-12-30    0.318782\n",
      "2015-12-31    0.030268\n",
      "Freq: D, Length: 365, dtype: float64\n"
     ]
    }
   ],
   "source": [
    "import numpy as np\n",
    "import pandas as pd\n",
    "\n",
    "dates=pd.date_range('2015-01-01','2015-12-31')\n",
    "\n",
    "a=pd.Series(np.random.rand(dates.shape[0]), index=dates)\n",
    "print(a)\n"
   ]
  },
  {
   "cell_type": "markdown",
   "metadata": {},
   "source": []
  }
 ],
 "metadata": {
  "kernelspec": {
   "display_name": "Python 3",
   "language": "python",
   "name": "python3"
  },
  "language_info": {
   "codemirror_mode": {
    "name": "ipython",
    "version": 3
   },
   "file_extension": ".py",
   "mimetype": "text/x-python",
   "name": "python",
   "nbconvert_exporter": "python",
   "pygments_lexer": "ipython3",
   "version": "3.7.3"
  }
 },
 "nbformat": 4,
 "nbformat_minor": 2
}
